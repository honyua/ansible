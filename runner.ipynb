{
 "cells": [
  {
   "cell_type": "code",
   "execution_count": 2,
   "id": "bf1c7ab6-df6a-4733-bb5d-ee48e32ff1f8",
   "metadata": {},
   "outputs": [
    {
     "name": "stdout",
     "output_type": "stream",
     "text": [
      "hello\n"
     ]
    }
   ],
   "source": [
    "!echo hello"
   ]
  },
  {
   "cell_type": "code",
   "execution_count": 4,
   "id": "6bc5a460-bab9-4914-8d4e-be954fdc95a2",
   "metadata": {},
   "outputs": [
    {
     "ename": "ConfigurationError",
     "evalue": "Runner playbook required when running ansible-playbook",
     "output_type": "error",
     "traceback": [
      "\u001b[0;31m---------------------------------------------------------------------------\u001b[0m",
      "\u001b[0;31mConfigurationError\u001b[0m                        Traceback (most recent call last)",
      "Cell \u001b[0;32mIn[4], line 2\u001b[0m\n\u001b[1;32m      1\u001b[0m \u001b[38;5;28;01mfrom\u001b[39;00m \u001b[38;5;21;01mansible_runner\u001b[39;00m \u001b[38;5;28;01mimport\u001b[39;00m run\n\u001b[0;32m----> 2\u001b[0m result \u001b[38;5;241m=\u001b[39m \u001b[43mrun\u001b[49m\u001b[43m(\u001b[49m\u001b[43mprivate_data_dir\u001b[49m\u001b[38;5;241;43m=\u001b[39;49m\u001b[38;5;124;43m'\u001b[39;49m\u001b[38;5;124;43m/workspaces/ansible/\u001b[39;49m\u001b[38;5;124;43m'\u001b[39;49m\u001b[43m)\u001b[49m\n\u001b[1;32m      4\u001b[0m \u001b[38;5;66;03m# 获取任务的返回代码\u001b[39;00m\n\u001b[1;32m      5\u001b[0m return_code \u001b[38;5;241m=\u001b[39m result\u001b[38;5;241m.\u001b[39mrc\n",
      "File \u001b[0;32m/usr/local/lib/python3.12/site-packages/ansible_runner/interface.py:209\u001b[0m, in \u001b[0;36mrun\u001b[0;34m(**kwargs)\u001b[0m\n\u001b[1;32m    134\u001b[0m \u001b[38;5;28;01mdef\u001b[39;00m \u001b[38;5;21mrun\u001b[39m(\u001b[38;5;241m*\u001b[39m\u001b[38;5;241m*\u001b[39mkwargs):\n\u001b[1;32m    135\u001b[0m \u001b[38;5;250m    \u001b[39m\u001b[38;5;124;03m'''\u001b[39;00m\n\u001b[1;32m    136\u001b[0m \u001b[38;5;124;03m    Run an Ansible Runner task in the foreground and return a Runner object when complete.\u001b[39;00m\n\u001b[1;32m    137\u001b[0m \n\u001b[0;32m   (...)\u001b[0m\n\u001b[1;32m    207\u001b[0m \u001b[38;5;124;03m    :returns: A :py:class:`ansible_runner.runner.Runner` object, or a simple object containing ``rc`` if run remotely\u001b[39;00m\n\u001b[1;32m    208\u001b[0m \u001b[38;5;124;03m    '''\u001b[39;00m\n\u001b[0;32m--> 209\u001b[0m     r \u001b[38;5;241m=\u001b[39m \u001b[43minit_runner\u001b[49m\u001b[43m(\u001b[49m\u001b[38;5;241;43m*\u001b[39;49m\u001b[38;5;241;43m*\u001b[39;49m\u001b[43mkwargs\u001b[49m\u001b[43m)\u001b[49m\n\u001b[1;32m    210\u001b[0m     r\u001b[38;5;241m.\u001b[39mrun()\n\u001b[1;32m    211\u001b[0m     \u001b[38;5;28;01mreturn\u001b[39;00m r\n",
      "File \u001b[0;32m/usr/local/lib/python3.12/site-packages/ansible_runner/interface.py:124\u001b[0m, in \u001b[0;36minit_runner\u001b[0;34m(**kwargs)\u001b[0m\n\u001b[1;32m    122\u001b[0m kwargs\u001b[38;5;241m.\u001b[39mpop(\u001b[38;5;124m'\u001b[39m\u001b[38;5;124m_output\u001b[39m\u001b[38;5;124m'\u001b[39m, \u001b[38;5;28;01mNone\u001b[39;00m)\n\u001b[1;32m    123\u001b[0m rc \u001b[38;5;241m=\u001b[39m RunnerConfig(\u001b[38;5;241m*\u001b[39m\u001b[38;5;241m*\u001b[39mkwargs)\n\u001b[0;32m--> 124\u001b[0m \u001b[43mrc\u001b[49m\u001b[38;5;241;43m.\u001b[39;49m\u001b[43mprepare\u001b[49m\u001b[43m(\u001b[49m\u001b[43m)\u001b[49m\n\u001b[1;32m    126\u001b[0m \u001b[38;5;28;01mreturn\u001b[39;00m Runner(rc,\n\u001b[1;32m    127\u001b[0m               event_handler\u001b[38;5;241m=\u001b[39mevent_callback_handler,\n\u001b[1;32m    128\u001b[0m               status_handler\u001b[38;5;241m=\u001b[39mstatus_callback_handler,\n\u001b[1;32m    129\u001b[0m               artifacts_handler\u001b[38;5;241m=\u001b[39martifacts_handler,\n\u001b[1;32m    130\u001b[0m               cancel_callback\u001b[38;5;241m=\u001b[39mcancel_callback,\n\u001b[1;32m    131\u001b[0m               finished_callback\u001b[38;5;241m=\u001b[39mfinished_callback)\n",
      "File \u001b[0;32m/usr/local/lib/python3.12/site-packages/ansible_runner/config/runner.py:145\u001b[0m, in \u001b[0;36mRunnerConfig.prepare\u001b[0;34m(self)\u001b[0m\n\u001b[1;32m    142\u001b[0m \u001b[38;5;28mself\u001b[39m\u001b[38;5;241m.\u001b[39mprepare_command()\n\u001b[1;32m    144\u001b[0m \u001b[38;5;28;01mif\u001b[39;00m \u001b[38;5;28mself\u001b[39m\u001b[38;5;241m.\u001b[39mexecution_mode \u001b[38;5;241m==\u001b[39m ExecutionMode\u001b[38;5;241m.\u001b[39mANSIBLE_PLAYBOOK \u001b[38;5;129;01mand\u001b[39;00m \u001b[38;5;28mself\u001b[39m\u001b[38;5;241m.\u001b[39mplaybook \u001b[38;5;129;01mis\u001b[39;00m \u001b[38;5;28;01mNone\u001b[39;00m:\n\u001b[0;32m--> 145\u001b[0m     \u001b[38;5;28;01mraise\u001b[39;00m ConfigurationError(\u001b[38;5;124m\"\u001b[39m\u001b[38;5;124mRunner playbook required when running ansible-playbook\u001b[39m\u001b[38;5;124m\"\u001b[39m)\n\u001b[1;32m    146\u001b[0m \u001b[38;5;28;01melif\u001b[39;00m \u001b[38;5;28mself\u001b[39m\u001b[38;5;241m.\u001b[39mexecution_mode \u001b[38;5;241m==\u001b[39m ExecutionMode\u001b[38;5;241m.\u001b[39mANSIBLE \u001b[38;5;129;01mand\u001b[39;00m \u001b[38;5;28mself\u001b[39m\u001b[38;5;241m.\u001b[39mmodule \u001b[38;5;129;01mis\u001b[39;00m \u001b[38;5;28;01mNone\u001b[39;00m:\n\u001b[1;32m    147\u001b[0m     \u001b[38;5;28;01mraise\u001b[39;00m ConfigurationError(\u001b[38;5;124m\"\u001b[39m\u001b[38;5;124mRunner module required when running ansible\u001b[39m\u001b[38;5;124m\"\u001b[39m)\n",
      "\u001b[0;31mConfigurationError\u001b[0m: Runner playbook required when running ansible-playbook"
     ]
    }
   ],
   "source": [
    "from ansible_runner import run\n",
    "result = run(private_data_dir='/workspaces/ansible/')\n",
    "\n",
    "# 获取任务的返回代码\n",
    "return_code = result.rc\n",
    "\n",
    "# 获取任务的输出\n",
    "stdout = result.stdout\n",
    "\n",
    "# 获取任务的错误信息\n",
    "stderr = result.stderr"
   ]
  },
  {
   "cell_type": "code",
   "execution_count": null,
   "id": "6ecb6f65-e8fc-4fb2-a606-c2c1b99a185f",
   "metadata": {},
   "outputs": [],
   "source": []
  },
  {
   "cell_type": "code",
   "execution_count": 3,
   "id": "990cfa26-00c7-45ac-9dbe-9a24f39bb539",
   "metadata": {},
   "outputs": [
    {
     "name": "stdout",
     "output_type": "stream",
     "text": [
      "/workspaces/ansible\n"
     ]
    }
   ],
   "source": [
    "!pwd"
   ]
  },
  {
   "cell_type": "code",
   "execution_count": 1,
   "id": "b78bccad-6d28-47a3-a865-0c6971975191",
   "metadata": {},
   "outputs": [
    {
     "name": "stdout",
     "output_type": "stream",
     "text": [
      "执行playbook\n",
      "Identity added: /workspaces/ansible/artifacts/9bff8ee2-71cb-472a-84e3-6884194c3b51/ssh_key_data (lvhongyuan@DESKTOP-52491RQ)\n",
      "\u001b[0;34mansible-playbook [core 2.16.2]\u001b[0m\n",
      "\u001b[0;34m  config file = None\u001b[0m\n",
      "\u001b[0;34m  configured module search path = ['/root/.ansible/plugins/modules', '/usr/share/ansible/plugins/modules']\u001b[0m\n",
      "\u001b[0;34m  ansible python module location = /usr/local/lib/python3.12/site-packages/ansible\u001b[0m\n",
      "\u001b[0;34m  ansible collection location = /root/.ansible/collections:/usr/share/ansible/collections\u001b[0m\n",
      "\u001b[0;34m  executable location = /usr/local/bin/ansible-playbook\u001b[0m\n",
      "\u001b[0;34m  python version = 3.12.1 (main, Dec  9 2023, 00:10:18) [GCC 12.2.0] (/usr/local/bin/python)\u001b[0m\n",
      "\u001b[0;34m  jinja version = 3.1.2\u001b[0m\n",
      "\u001b[0;34m  libyaml = True\u001b[0m\n",
      "\u001b[0;34mNo config file found; using defaults\u001b[0m\n"
     ]
    },
    {
     "name": "stdout",
     "output_type": "stream",
     "text": [
      "\u001b[0;34mstatically imported: /workspaces/ansible/project/roles/docker/tasks/main.yaml\u001b[0m\n",
      "\u001b[0;34mstatically imported: /workspaces/ansible/project/roles/authorized/tasks/main.yaml\u001b[0m\n",
      "\u001b[0;34mstatically imported: /workspaces/ansible/project/roles/vscodeTunnel/tasks/main.yaml\u001b[0m\n",
      "\u001b[0;34mSkipping callback 'awx_display', as we already have a stdout callback.\u001b[0m\n",
      "\u001b[0;34mSkipping callback 'default', as we already have a stdout callback.\u001b[0m\n",
      "\u001b[0;34mSkipping callback 'minimal', as we already have a stdout callback.\u001b[0m\n",
      "\u001b[0;34mSkipping callback 'oneline', as we already have a stdout callback.\u001b[0m\n",
      "\n",
      "PLAYBOOK: playbooks.yaml *******************************************************\n",
      "\u001b[0;34m1 plays in playbooks.yaml\u001b[0m\n",
      "\n",
      "PLAY [Hello] *******************************************************************\n",
      "\n",
      "TASK [Gathering Facts] *********************************************************\n",
      "\u001b[1;30mtask path: /workspaces/ansible/project/playbooks.yaml:2\u001b[0m\n",
      "\u001b[0;32mok: [name22]\u001b[0m\n",
      "\n",
      "TASK [hello : Echo hello] ******************************************************\n",
      "\u001b[1;30mtask path: /workspaces/ansible/project/roles/hello/tasks/main.yaml:2\u001b[0m\n",
      "\u001b[0;32mok: [name22] => {\"changed\": false, \"rc\": 0, \"stderr\": \"Shared connection to 103.177.80.200 closed.\\r\\n\", \"stderr_lines\": [\"Shared connection to 103.177.80.200 closed.\"], \"stdout\": \"hello\\r\\n\", \"stdout_lines\": [\"hello\"]}\u001b[0m\n",
      "\n",
      "PLAY RECAP *********************************************************************\n",
      "\u001b[0;32mname22\u001b[0m                     : \u001b[0;32mok=2   \u001b[0m changed=0    unreachable=0    failed=0    skipped=0    rescued=0    ignored=0   \n",
      "verbose\n",
      "verbose\n",
      "verbose\n",
      "verbose\n",
      "verbose\n",
      "verbose\n",
      "verbose\n",
      "verbose\n",
      "verbose\n",
      "verbose\n",
      "verbose\n",
      "verbose\n",
      "verbose\n",
      "verbose\n",
      "verbose\n",
      "verbose\n",
      "verbose\n",
      "verbose\n",
      "playbook_on_start\n",
      "verbose\n",
      "playbook_on_play_start\n",
      "playbook_on_task_start\n",
      "runner_on_start\n",
      "runner_on_ok\n",
      "playbook_on_task_start\n",
      "runner_on_start\n",
      "runner_on_ok\n",
      "playbook_on_stats\n",
      "Final status: 0\n"
     ]
    }
   ],
   "source": [
    "#!/bin/env python\n",
    "#! coding: utf-8\n",
    "\n",
    "import ansible_runner\n",
    "\n",
    "data_dir = \"/workspaces/ansible/\"\n",
    "myhosts = \"/workspaces/ansible/inventory/hosts\"\n",
    "\n",
    "print(\"执行playbook\")\n",
    "# config配置\n",
    "rc = ansible_runner.RunnerConfig(private_data_dir=data_dir, playbook='playbooks.yaml', inventory=myhosts,extravars={\"ansible_test\": \"test_playbook\"})\n",
    "# 基本检查\n",
    "rc.prepare()\n",
    "# 执行\n",
    "r = ansible_runner.Runner(config=rc)\n",
    "p = r.run()\n",
    "if 'failed' in p:\n",
    "  print('Exec error:', p)\n",
    "else:\n",
    "  # successful: 0\n",
    "  for each_host_event in r.events:\n",
    "      print(each_host_event['event'])\n",
    "  print(\"Final status:\", p[1])"
   ]
  },
  {
   "cell_type": "code",
   "execution_count": null,
   "id": "968fe7e1-f342-4273-b3d5-a9d8eaa875a4",
   "metadata": {},
   "outputs": [],
   "source": []
  }
 ],
 "metadata": {
  "kernelspec": {
   "display_name": "Python 3 (ipykernel)",
   "language": "python",
   "name": "python3"
  },
  "language_info": {
   "codemirror_mode": {
    "name": "ipython",
    "version": 3
   },
   "file_extension": ".py",
   "mimetype": "text/x-python",
   "name": "python",
   "nbconvert_exporter": "python",
   "pygments_lexer": "ipython3",
   "version": "3.12.1"
  }
 },
 "nbformat": 4,
 "nbformat_minor": 5
}
