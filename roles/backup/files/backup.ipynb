{
 "cells": [
  {
   "cell_type": "code",
   "execution_count": 4,
   "metadata": {},
   "outputs": [
    {
     "name": "stdout",
     "output_type": "stream",
     "text": [
      "Defaulting to user installation because normal site-packages is not writeable\n",
      "Requirement already satisfied: load_dotenv in /home/v2vvcn/.local/lib/python3.10/site-packages (0.1.0)\n",
      "Requirement already satisfied: python-dotenv in /home/v2vvcn/.local/lib/python3.10/site-packages (from load_dotenv) (1.0.1)\n",
      "Note: you may need to restart the kernel to use updated packages.\n"
     ]
    }
   ],
   "source": [
    "%pip install load_dotenv "
   ]
  },
  {
   "cell_type": "code",
   "execution_count": null,
   "metadata": {},
   "outputs": [],
   "source": [
    "import requests\n",
    "from dotenv import load_dotenv\n",
    "import os\n",
    "\n",
    "# 加载最新的 .env 文件\n",
    "load_dotenv(override=True)\n",
    "\n",
    "# auth_url = f'https://login.microsoftonline.com/{tenant_id}/oauth2/v2.0/token'\n",
    "upload_url_template = 'https://graph.microsoft.com/v1.0/users/me@lvhongyuan.site/drive/root:/{}:/content'\n",
    "\n",
    "def get_access_token(client_id, client_secret, auth_url):\n",
    "    headers = {\n",
    "        'Content-Type': 'application/x-www-form-urlencoded'\n",
    "    }\n",
    "    data = {\n",
    "        'client_id': client_id,\n",
    "        'scope': 'https://graph.microsoft.com/.default',\n",
    "        'client_secret': client_secret,\n",
    "        'grant_type': 'client_credentials'\n",
    "    }\n",
    "    response = requests.post(auth_url, headers=headers, data=data)\n",
    "    response.raise_for_status()\n",
    "    token = response.json().get('access_token')\n",
    "    return token\n",
    "\n",
    "def upload_file_to_onedrive(access_token, file_path, upload_url):\n",
    "    headers = {\n",
    "        'Authorization': f'Bearer {access_token}',\n",
    "        'Content-Type': 'application/octet-stream'\n",
    "    }\n",
    "    with open(file_path, 'rb') as file:\n",
    "        response = requests.put(upload_url, headers=headers, data=file)\n",
    "    response.raise_for_status()\n",
    "    return response.json()\n",
    "\n",
    "def main():\n",
    "\n",
    "    # 设置参数\n",
    "    localFilePath = os.getenv('localFilePath') \n",
    "    oneDrivePath = os.getenv('oneDrivePath')  # 文件在 OneDrive 中的路径和名称\n",
    "    client_id = os.getenv('client_id')\n",
    "    client_secret = os.getenv('client_secret')\n",
    "    tenant_id = os.getenv('tenant_id')  # 通常是目录 (tenant) ID\n",
    "\n",
    "    # file_path = 'hosts'\n",
    "    # file_name = '文档/Backup/Semaphore/hosts'  # 文件在 OneDrive 中的路径和名称\n",
    "\n",
    "    auth_url = f'https://login.microsoftonline.com/{tenant_id}/oauth2/v2.0/token'\n",
    "    upload_url = upload_url_template.format(oneDrivePath)\n",
    "\n",
    "    print('获取访问令牌...')\n",
    "    access_token = get_access_token(client_id, client_secret, auth_url)\n",
    "    print(f'访问令牌获取成功。{access_token}')\n",
    "\n",
    "    print('上传文件到 OneDrive...')\n",
    "    response = upload_file_to_onedrive(access_token, localFilePath, upload_url)\n",
    "    print('文件上传成功。')\n",
    "    print('响应:', response)\n",
    "\n",
    "if __name__ == \"__main__\":\n",
    "    main()\n"
   ]
  },
  {
   "cell_type": "code",
   "execution_count": null,
   "metadata": {},
   "outputs": [],
   "source": [
    "from dotenv import load_dotenv\n",
    "import os\n",
    "\n",
    "# 加载最新的 .env 文件\n",
    "load_dotenv(override=True)\n",
    "\n",
    "# 设置参数\n",
    "client_id = os.getenv('client_id')\n",
    "client_secret = os.getenv('client_secret')\n",
    "tenant_id = os.getenv('tenant_id')  # 通常是目录 (tenant) ID\n",
    "oneDrivePath = os.getenv('oneDrivePath')\n",
    "localFilePath = os.getenv('localFilePath')\n",
    "\n",
    "# !echo $localFilePath\n",
    "# !echo $oneDrivePath\n",
    "# !echo $client_id\n",
    "# !echo $client_secret\n",
    "# !echo $tenant_id\n",
    "\n",
    "!sh ./backup.sh $localFilePath $oneDrivePath $client_id $client_secret $tenant_id"
   ]
  },
  {
   "cell_type": "code",
   "execution_count": null,
   "metadata": {},
   "outputs": [],
   "source": [
    "%%bash\n",
    "\n",
    "\n",
    "\n",
    "urlencode() {\n",
    "    src_url=$(echo -n \"$1\" | xxd -plain | tr -d '\\n' | sed 's/\\(..\\)/%\\1/g')\n",
    "    echo $src_url\n",
    "}\n",
    "\n",
    "urlencode \"文档\"\n"
   ]
  },
  {
   "cell_type": "code",
   "execution_count": 6,
   "metadata": {},
   "outputs": [
    {
     "name": "stderr",
     "output_type": "stream",
     "text": [
      "bash: line 2: from: command not found\n",
      "bash: line 3: import: command not found\n",
      "bash: line 6: syntax error near unexpected token `override=True'\n",
      "bash: line 6: `load_dotenv(override=True)'\n"
     ]
    },
    {
     "ename": "CalledProcessError",
     "evalue": "Command 'b'\\nfrom dotenv import load_dotenv\\nimport os\\n\\n# \\xe5\\x8a\\xa0\\xe8\\xbd\\xbd\\xe6\\x9c\\x80\\xe6\\x96\\xb0\\xe7\\x9a\\x84 .env \\xe6\\x96\\x87\\xe4\\xbb\\xb6\\nload_dotenv(override=True)\\n\\n# \\xe8\\xae\\xbe\\xe7\\xbd\\xae\\xe5\\x8f\\x82\\xe6\\x95\\xb0\\nclient_id = os.getenv(\\'client_id\\')\\nclient_secret = os.getenv(\\'client_secret\\')\\ntenant_id = os.getenv(\\'tenant_id\\')  # \\xe9\\x80\\x9a\\xe5\\xb8\\xb8\\xe6\\x98\\xaf\\xe7\\x9b\\xae\\xe5\\xbd\\x95 (tenant) ID\\noneDrivePath = os.getenv(\\'oneDrivePath\\')\\nlocalFilePath = os.getenv(\\'localFilePath\\')\\n\\necho \\'\\xe6\\xad\\xa3\\xe5\\x9c\\xa8\\xe8\\x8e\\xb7\\xe5\\x8f\\x96\\xe6\\x8e\\x88\\xe6\\x9d\\x83\\'\\n# \\xe4\\xbd\\xbf\\xe7\\x94\\xa8 curl \\xe5\\x8f\\x91\\xe9\\x80\\x81 POST \\xe8\\xaf\\xb7\\xe6\\xb1\\x82\\nresponse=$(curl --location --request POST \"https://login.microsoftonline.com/$tenant_id/oauth2/v2.0/token\" \\\\\\n--header \\'Host: login.microsoftonline.com\\' \\\\\\n--header \\'User-Agent: Apifox/1.0.0 (https://apifox.com)\\' \\\\\\n--header \\'Content-Type: application/x-www-form-urlencoded\\' \\\\\\n--data-urlencode \"client_id=$client_id\" \\\\\\n--data-urlencode \\'scope=https://graph.microsoft.com/.default\\' \\\\\\n--data-urlencode \"client_secret=$client_secret\" \\\\\\n--data-urlencode \\'grant_type=client_credentials\\')\\n\\n# \\xe4\\xbd\\xbf\\xe7\\x94\\xa8 jq \\xe8\\xa7\\xa3\\xe6\\x9e\\x90 JSON \\xe5\\xb9\\xb6\\xe6\\x8f\\x90\\xe5\\x8f\\x96 access_token\\naccess_token=$(echo $response | jq -r \\'.access_token\\')\\n# \\xe6\\xa3\\x80\\xe6\\x9f\\xa5access_token\\xe6\\x98\\xaf\\xe5\\x90\\xa6\\xe4\\xb8\\xba\\xe7\\xa9\\xba\\nif [ -n \"$access_token\" ]; then\\n  echo \"\\xe6\\x8e\\x88\\xe6\\x9d\\x83\\xe6\\x88\\x90\\xe5\\x8a\\x9f\"\\n  # \\xe8\\xbe\\x93\\xe5\\x87\\xba access_token\\n    # echo \"Access Token: $access_token\"\\nelse\\n  echo -e \"${YELLOW}\\xe8\\xad\\xa6\\xe5\\x91\\x8a\\xef\\xbc\\x9a\\xe6\\x8e\\x88\\xe6\\x9d\\x83\\xe5\\xa4\\xb1\\xe8\\xb4\\xa5${NC}\"\\nfi\\n'' returned non-zero exit status 2.",
     "output_type": "error",
     "traceback": [
      "\u001b[0;31m---------------------------------------------------------------------------\u001b[0m",
      "\u001b[0;31mCalledProcessError\u001b[0m                        Traceback (most recent call last)",
      "Cell \u001b[0;32mIn[6], line 1\u001b[0m\n\u001b[0;32m----> 1\u001b[0m \u001b[43mget_ipython\u001b[49m\u001b[43m(\u001b[49m\u001b[43m)\u001b[49m\u001b[38;5;241;43m.\u001b[39;49m\u001b[43mrun_cell_magic\u001b[49m\u001b[43m(\u001b[49m\u001b[38;5;124;43m'\u001b[39;49m\u001b[38;5;124;43mbash\u001b[39;49m\u001b[38;5;124;43m'\u001b[39;49m\u001b[43m,\u001b[49m\u001b[43m \u001b[49m\u001b[38;5;124;43m'\u001b[39;49m\u001b[38;5;124;43m'\u001b[39;49m\u001b[43m,\u001b[49m\u001b[43m \u001b[49m\u001b[38;5;124;43m'\u001b[39;49m\u001b[38;5;130;43;01m\\n\u001b[39;49;00m\u001b[38;5;124;43mfrom dotenv import load_dotenv\u001b[39;49m\u001b[38;5;130;43;01m\\n\u001b[39;49;00m\u001b[38;5;124;43mimport os\u001b[39;49m\u001b[38;5;130;43;01m\\n\u001b[39;49;00m\u001b[38;5;130;43;01m\\n\u001b[39;49;00m\u001b[38;5;124;43m# 加载最新的 .env 文件\u001b[39;49m\u001b[38;5;130;43;01m\\n\u001b[39;49;00m\u001b[38;5;124;43mload_dotenv(override=True)\u001b[39;49m\u001b[38;5;130;43;01m\\n\u001b[39;49;00m\u001b[38;5;130;43;01m\\n\u001b[39;49;00m\u001b[38;5;124;43m# 设置参数\u001b[39;49m\u001b[38;5;130;43;01m\\n\u001b[39;49;00m\u001b[38;5;124;43mclient_id = os.getenv(\u001b[39;49m\u001b[38;5;130;43;01m\\'\u001b[39;49;00m\u001b[38;5;124;43mclient_id\u001b[39;49m\u001b[38;5;130;43;01m\\'\u001b[39;49;00m\u001b[38;5;124;43m)\u001b[39;49m\u001b[38;5;130;43;01m\\n\u001b[39;49;00m\u001b[38;5;124;43mclient_secret = os.getenv(\u001b[39;49m\u001b[38;5;130;43;01m\\'\u001b[39;49;00m\u001b[38;5;124;43mclient_secret\u001b[39;49m\u001b[38;5;130;43;01m\\'\u001b[39;49;00m\u001b[38;5;124;43m)\u001b[39;49m\u001b[38;5;130;43;01m\\n\u001b[39;49;00m\u001b[38;5;124;43mtenant_id = os.getenv(\u001b[39;49m\u001b[38;5;130;43;01m\\'\u001b[39;49;00m\u001b[38;5;124;43mtenant_id\u001b[39;49m\u001b[38;5;130;43;01m\\'\u001b[39;49;00m\u001b[38;5;124;43m)  # 通常是目录 (tenant) ID\u001b[39;49m\u001b[38;5;130;43;01m\\n\u001b[39;49;00m\u001b[38;5;124;43moneDrivePath = os.getenv(\u001b[39;49m\u001b[38;5;130;43;01m\\'\u001b[39;49;00m\u001b[38;5;124;43moneDrivePath\u001b[39;49m\u001b[38;5;130;43;01m\\'\u001b[39;49;00m\u001b[38;5;124;43m)\u001b[39;49m\u001b[38;5;130;43;01m\\n\u001b[39;49;00m\u001b[38;5;124;43mlocalFilePath = os.getenv(\u001b[39;49m\u001b[38;5;130;43;01m\\'\u001b[39;49;00m\u001b[38;5;124;43mlocalFilePath\u001b[39;49m\u001b[38;5;130;43;01m\\'\u001b[39;49;00m\u001b[38;5;124;43m)\u001b[39;49m\u001b[38;5;130;43;01m\\n\u001b[39;49;00m\u001b[38;5;130;43;01m\\n\u001b[39;49;00m\u001b[38;5;124;43mecho \u001b[39;49m\u001b[38;5;130;43;01m\\'\u001b[39;49;00m\u001b[38;5;124;43m正在获取授权\u001b[39;49m\u001b[38;5;130;43;01m\\'\u001b[39;49;00m\u001b[38;5;130;43;01m\\n\u001b[39;49;00m\u001b[38;5;124;43m# 使用 curl 发送 POST 请求\u001b[39;49m\u001b[38;5;130;43;01m\\n\u001b[39;49;00m\u001b[38;5;124;43mresponse=$(curl --location --request POST \u001b[39;49m\u001b[38;5;124;43m\"\u001b[39;49m\u001b[38;5;124;43mhttps://login.microsoftonline.com/$tenant_id/oauth2/v2.0/token\u001b[39;49m\u001b[38;5;124;43m\"\u001b[39;49m\u001b[38;5;124;43m \u001b[39;49m\u001b[38;5;130;43;01m\\\\\u001b[39;49;00m\u001b[38;5;130;43;01m\\n\u001b[39;49;00m\u001b[38;5;124;43m--header \u001b[39;49m\u001b[38;5;130;43;01m\\'\u001b[39;49;00m\u001b[38;5;124;43mHost: login.microsoftonline.com\u001b[39;49m\u001b[38;5;130;43;01m\\'\u001b[39;49;00m\u001b[38;5;124;43m \u001b[39;49m\u001b[38;5;130;43;01m\\\\\u001b[39;49;00m\u001b[38;5;130;43;01m\\n\u001b[39;49;00m\u001b[38;5;124;43m--header \u001b[39;49m\u001b[38;5;130;43;01m\\'\u001b[39;49;00m\u001b[38;5;124;43mUser-Agent: Apifox/1.0.0 (https://apifox.com)\u001b[39;49m\u001b[38;5;130;43;01m\\'\u001b[39;49;00m\u001b[38;5;124;43m \u001b[39;49m\u001b[38;5;130;43;01m\\\\\u001b[39;49;00m\u001b[38;5;130;43;01m\\n\u001b[39;49;00m\u001b[38;5;124;43m--header \u001b[39;49m\u001b[38;5;130;43;01m\\'\u001b[39;49;00m\u001b[38;5;124;43mContent-Type: application/x-www-form-urlencoded\u001b[39;49m\u001b[38;5;130;43;01m\\'\u001b[39;49;00m\u001b[38;5;124;43m \u001b[39;49m\u001b[38;5;130;43;01m\\\\\u001b[39;49;00m\u001b[38;5;130;43;01m\\n\u001b[39;49;00m\u001b[38;5;124;43m--data-urlencode \u001b[39;49m\u001b[38;5;124;43m\"\u001b[39;49m\u001b[38;5;124;43mclient_id=$client_id\u001b[39;49m\u001b[38;5;124;43m\"\u001b[39;49m\u001b[38;5;124;43m \u001b[39;49m\u001b[38;5;130;43;01m\\\\\u001b[39;49;00m\u001b[38;5;130;43;01m\\n\u001b[39;49;00m\u001b[38;5;124;43m--data-urlencode \u001b[39;49m\u001b[38;5;130;43;01m\\'\u001b[39;49;00m\u001b[38;5;124;43mscope=https://graph.microsoft.com/.default\u001b[39;49m\u001b[38;5;130;43;01m\\'\u001b[39;49;00m\u001b[38;5;124;43m \u001b[39;49m\u001b[38;5;130;43;01m\\\\\u001b[39;49;00m\u001b[38;5;130;43;01m\\n\u001b[39;49;00m\u001b[38;5;124;43m--data-urlencode \u001b[39;49m\u001b[38;5;124;43m\"\u001b[39;49m\u001b[38;5;124;43mclient_secret=$client_secret\u001b[39;49m\u001b[38;5;124;43m\"\u001b[39;49m\u001b[38;5;124;43m \u001b[39;49m\u001b[38;5;130;43;01m\\\\\u001b[39;49;00m\u001b[38;5;130;43;01m\\n\u001b[39;49;00m\u001b[38;5;124;43m--data-urlencode \u001b[39;49m\u001b[38;5;130;43;01m\\'\u001b[39;49;00m\u001b[38;5;124;43mgrant_type=client_credentials\u001b[39;49m\u001b[38;5;130;43;01m\\'\u001b[39;49;00m\u001b[38;5;124;43m)\u001b[39;49m\u001b[38;5;130;43;01m\\n\u001b[39;49;00m\u001b[38;5;130;43;01m\\n\u001b[39;49;00m\u001b[38;5;124;43m# 使用 jq 解析 JSON 并提取 access_token\u001b[39;49m\u001b[38;5;130;43;01m\\n\u001b[39;49;00m\u001b[38;5;124;43maccess_token=$(echo $response | jq -r \u001b[39;49m\u001b[38;5;130;43;01m\\'\u001b[39;49;00m\u001b[38;5;124;43m.access_token\u001b[39;49m\u001b[38;5;130;43;01m\\'\u001b[39;49;00m\u001b[38;5;124;43m)\u001b[39;49m\u001b[38;5;130;43;01m\\n\u001b[39;49;00m\u001b[38;5;124;43m# 检查access_token是否为空\u001b[39;49m\u001b[38;5;130;43;01m\\n\u001b[39;49;00m\u001b[38;5;124;43mif [ -n \u001b[39;49m\u001b[38;5;124;43m\"\u001b[39;49m\u001b[38;5;124;43m$access_token\u001b[39;49m\u001b[38;5;124;43m\"\u001b[39;49m\u001b[38;5;124;43m ]; then\u001b[39;49m\u001b[38;5;130;43;01m\\n\u001b[39;49;00m\u001b[38;5;124;43m  echo \u001b[39;49m\u001b[38;5;124;43m\"\u001b[39;49m\u001b[38;5;124;43m授权成功\u001b[39;49m\u001b[38;5;124;43m\"\u001b[39;49m\u001b[38;5;130;43;01m\\n\u001b[39;49;00m\u001b[38;5;124;43m  # 输出 access_token\u001b[39;49m\u001b[38;5;130;43;01m\\n\u001b[39;49;00m\u001b[38;5;124;43m    # echo \u001b[39;49m\u001b[38;5;124;43m\"\u001b[39;49m\u001b[38;5;124;43mAccess Token: $access_token\u001b[39;49m\u001b[38;5;124;43m\"\u001b[39;49m\u001b[38;5;130;43;01m\\n\u001b[39;49;00m\u001b[38;5;124;43melse\u001b[39;49m\u001b[38;5;130;43;01m\\n\u001b[39;49;00m\u001b[38;5;124;43m  echo -e \u001b[39;49m\u001b[38;5;124;43m\"\u001b[39;49m\u001b[38;5;124;43m$\u001b[39;49m\u001b[38;5;132;43;01m{YELLOW}\u001b[39;49;00m\u001b[38;5;124;43m警告：授权失败$\u001b[39;49m\u001b[38;5;132;43;01m{NC}\u001b[39;49;00m\u001b[38;5;124;43m\"\u001b[39;49m\u001b[38;5;130;43;01m\\n\u001b[39;49;00m\u001b[38;5;124;43mfi\u001b[39;49m\u001b[38;5;130;43;01m\\n\u001b[39;49;00m\u001b[38;5;124;43m'\u001b[39;49m\u001b[43m)\u001b[49m\n",
      "File \u001b[0;32m/usr/local/lib/python3.10/dist-packages/IPython/core/interactiveshell.py:2541\u001b[0m, in \u001b[0;36mInteractiveShell.run_cell_magic\u001b[0;34m(self, magic_name, line, cell)\u001b[0m\n\u001b[1;32m   2539\u001b[0m \u001b[38;5;28;01mwith\u001b[39;00m \u001b[38;5;28mself\u001b[39m\u001b[38;5;241m.\u001b[39mbuiltin_trap:\n\u001b[1;32m   2540\u001b[0m     args \u001b[38;5;241m=\u001b[39m (magic_arg_s, cell)\n\u001b[0;32m-> 2541\u001b[0m     result \u001b[38;5;241m=\u001b[39m \u001b[43mfn\u001b[49m\u001b[43m(\u001b[49m\u001b[38;5;241;43m*\u001b[39;49m\u001b[43margs\u001b[49m\u001b[43m,\u001b[49m\u001b[43m \u001b[49m\u001b[38;5;241;43m*\u001b[39;49m\u001b[38;5;241;43m*\u001b[39;49m\u001b[43mkwargs\u001b[49m\u001b[43m)\u001b[49m\n\u001b[1;32m   2543\u001b[0m \u001b[38;5;66;03m# The code below prevents the output from being displayed\u001b[39;00m\n\u001b[1;32m   2544\u001b[0m \u001b[38;5;66;03m# when using magics with decorator @output_can_be_silenced\u001b[39;00m\n\u001b[1;32m   2545\u001b[0m \u001b[38;5;66;03m# when the last Python token in the expression is a ';'.\u001b[39;00m\n\u001b[1;32m   2546\u001b[0m \u001b[38;5;28;01mif\u001b[39;00m \u001b[38;5;28mgetattr\u001b[39m(fn, magic\u001b[38;5;241m.\u001b[39mMAGIC_OUTPUT_CAN_BE_SILENCED, \u001b[38;5;28;01mFalse\u001b[39;00m):\n",
      "File \u001b[0;32m/usr/local/lib/python3.10/dist-packages/IPython/core/magics/script.py:155\u001b[0m, in \u001b[0;36mScriptMagics._make_script_magic.<locals>.named_script_magic\u001b[0;34m(line, cell)\u001b[0m\n\u001b[1;32m    153\u001b[0m \u001b[38;5;28;01melse\u001b[39;00m:\n\u001b[1;32m    154\u001b[0m     line \u001b[38;5;241m=\u001b[39m script\n\u001b[0;32m--> 155\u001b[0m \u001b[38;5;28;01mreturn\u001b[39;00m \u001b[38;5;28;43mself\u001b[39;49m\u001b[38;5;241;43m.\u001b[39;49m\u001b[43mshebang\u001b[49m\u001b[43m(\u001b[49m\u001b[43mline\u001b[49m\u001b[43m,\u001b[49m\u001b[43m \u001b[49m\u001b[43mcell\u001b[49m\u001b[43m)\u001b[49m\n",
      "File \u001b[0;32m/usr/local/lib/python3.10/dist-packages/IPython/core/magics/script.py:315\u001b[0m, in \u001b[0;36mScriptMagics.shebang\u001b[0;34m(self, line, cell)\u001b[0m\n\u001b[1;32m    310\u001b[0m \u001b[38;5;28;01mif\u001b[39;00m args\u001b[38;5;241m.\u001b[39mraise_error \u001b[38;5;129;01mand\u001b[39;00m p\u001b[38;5;241m.\u001b[39mreturncode \u001b[38;5;241m!=\u001b[39m \u001b[38;5;241m0\u001b[39m:\n\u001b[1;32m    311\u001b[0m     \u001b[38;5;66;03m# If we get here and p.returncode is still None, we must have\u001b[39;00m\n\u001b[1;32m    312\u001b[0m     \u001b[38;5;66;03m# killed it but not yet seen its return code. We don't wait for it,\u001b[39;00m\n\u001b[1;32m    313\u001b[0m     \u001b[38;5;66;03m# in case it's stuck in uninterruptible sleep. -9 = SIGKILL\u001b[39;00m\n\u001b[1;32m    314\u001b[0m     rc \u001b[38;5;241m=\u001b[39m p\u001b[38;5;241m.\u001b[39mreturncode \u001b[38;5;129;01mor\u001b[39;00m \u001b[38;5;241m-\u001b[39m\u001b[38;5;241m9\u001b[39m\n\u001b[0;32m--> 315\u001b[0m     \u001b[38;5;28;01mraise\u001b[39;00m CalledProcessError(rc, cell)\n",
      "\u001b[0;31mCalledProcessError\u001b[0m: Command 'b'\\nfrom dotenv import load_dotenv\\nimport os\\n\\n# \\xe5\\x8a\\xa0\\xe8\\xbd\\xbd\\xe6\\x9c\\x80\\xe6\\x96\\xb0\\xe7\\x9a\\x84 .env \\xe6\\x96\\x87\\xe4\\xbb\\xb6\\nload_dotenv(override=True)\\n\\n# \\xe8\\xae\\xbe\\xe7\\xbd\\xae\\xe5\\x8f\\x82\\xe6\\x95\\xb0\\nclient_id = os.getenv(\\'client_id\\')\\nclient_secret = os.getenv(\\'client_secret\\')\\ntenant_id = os.getenv(\\'tenant_id\\')  # \\xe9\\x80\\x9a\\xe5\\xb8\\xb8\\xe6\\x98\\xaf\\xe7\\x9b\\xae\\xe5\\xbd\\x95 (tenant) ID\\noneDrivePath = os.getenv(\\'oneDrivePath\\')\\nlocalFilePath = os.getenv(\\'localFilePath\\')\\n\\necho \\'\\xe6\\xad\\xa3\\xe5\\x9c\\xa8\\xe8\\x8e\\xb7\\xe5\\x8f\\x96\\xe6\\x8e\\x88\\xe6\\x9d\\x83\\'\\n# \\xe4\\xbd\\xbf\\xe7\\x94\\xa8 curl \\xe5\\x8f\\x91\\xe9\\x80\\x81 POST \\xe8\\xaf\\xb7\\xe6\\xb1\\x82\\nresponse=$(curl --location --request POST \"https://login.microsoftonline.com/$tenant_id/oauth2/v2.0/token\" \\\\\\n--header \\'Host: login.microsoftonline.com\\' \\\\\\n--header \\'User-Agent: Apifox/1.0.0 (https://apifox.com)\\' \\\\\\n--header \\'Content-Type: application/x-www-form-urlencoded\\' \\\\\\n--data-urlencode \"client_id=$client_id\" \\\\\\n--data-urlencode \\'scope=https://graph.microsoft.com/.default\\' \\\\\\n--data-urlencode \"client_secret=$client_secret\" \\\\\\n--data-urlencode \\'grant_type=client_credentials\\')\\n\\n# \\xe4\\xbd\\xbf\\xe7\\x94\\xa8 jq \\xe8\\xa7\\xa3\\xe6\\x9e\\x90 JSON \\xe5\\xb9\\xb6\\xe6\\x8f\\x90\\xe5\\x8f\\x96 access_token\\naccess_token=$(echo $response | jq -r \\'.access_token\\')\\n# \\xe6\\xa3\\x80\\xe6\\x9f\\xa5access_token\\xe6\\x98\\xaf\\xe5\\x90\\xa6\\xe4\\xb8\\xba\\xe7\\xa9\\xba\\nif [ -n \"$access_token\" ]; then\\n  echo \"\\xe6\\x8e\\x88\\xe6\\x9d\\x83\\xe6\\x88\\x90\\xe5\\x8a\\x9f\"\\n  # \\xe8\\xbe\\x93\\xe5\\x87\\xba access_token\\n    # echo \"Access Token: $access_token\"\\nelse\\n  echo -e \"${YELLOW}\\xe8\\xad\\xa6\\xe5\\x91\\x8a\\xef\\xbc\\x9a\\xe6\\x8e\\x88\\xe6\\x9d\\x83\\xe5\\xa4\\xb1\\xe8\\xb4\\xa5${NC}\"\\nfi\\n'' returned non-zero exit status 2."
     ]
    }
   ],
   "source": [
    "\n",
    "\n",
    "from dotenv import load_dotenv\n",
    "import os\n",
    "\n",
    "# 加载最新的 .env 文件\n",
    "load_dotenv(override=True)\n",
    "\n",
    "# 设置参数\n",
    "client_id = os.getenv('client_id')\n",
    "client_secret = os.getenv('client_secret')\n",
    "tenant_id = os.getenv('tenant_id')  # 通常是目录 (tenant) ID\n",
    "oneDrivePath = os.getenv('oneDrivePath')\n",
    "localFilePath = os.getenv('localFilePath')\n",
    "\n",
    "\n",
    "!sh ./backup.sh $localFilePath $oneDrivePath $client_id $client_secret $tenant_id"
   ]
  }
 ],
 "metadata": {
  "kernelspec": {
   "display_name": "Python 3",
   "language": "python",
   "name": "python3"
  },
  "language_info": {
   "codemirror_mode": {
    "name": "ipython",
    "version": 3
   },
   "file_extension": ".py",
   "mimetype": "text/x-python",
   "name": "python",
   "nbconvert_exporter": "python",
   "pygments_lexer": "ipython3",
   "version": "3.10.12"
  }
 },
 "nbformat": 4,
 "nbformat_minor": 2
}
