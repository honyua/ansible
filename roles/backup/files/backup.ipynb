{
 "cells": [
  {
   "cell_type": "code",
   "execution_count": null,
   "metadata": {},
   "outputs": [],
   "source": [
    "%pip install pyyaml"
   ]
  },
  {
   "cell_type": "code",
   "execution_count": 1,
   "metadata": {},
   "outputs": [
    {
     "name": "stdout",
     "output_type": "stream",
     "text": [
      "获取访问令牌...\n",
      "访问令牌获取成功。eyJ0eXAiOiJKV1QiLCJub25jZSI6IjhfekNXSG92MUdIempBVjQtdjZLZHU0dmQxbHFqS3JDRldpbXFFZjRXMWciLCJhbGciOiJSUzI1NiIsIng1dCI6IkwxS2ZLRklfam5YYndXYzIyeFp4dzFzVUhIMCIsImtpZCI6IkwxS2ZLRklfam5YYndXYzIyeFp4dzFzVUhIMCJ9.eyJhdWQiOiJodHRwczovL2dyYXBoLm1pY3Jvc29mdC5jb20iLCJpc3MiOiJodHRwczovL3N0cy53aW5kb3dzLm5ldC80ZmZjYWU4ZS1mYWY3LTQzYWMtOWZjOS04NzNlMzFkMDk0OGQvIiwiaWF0IjoxNzE3OTg4MTE1LCJuYmYiOjE3MTc5ODgxMTUsImV4cCI6MTcxNzk5MjAxNSwiYWlvIjoiRTJOZ1lGalh2MEJyMXF1YUcwTHY1NnFMRnMzWkJ3QT0iLCJhcHBfZGlzcGxheW5hbWUiOiJiYWNrdXAiLCJhcHBpZCI6IjljYTI4NjM0LTMzNDQtNDI5Zi1hYWYyLWMxNjg4ZDk5YTExZSIsImFwcGlkYWNyIjoiMSIsImlkcCI6Imh0dHBzOi8vc3RzLndpbmRvd3MubmV0LzRmZmNhZThlLWZhZjctNDNhYy05ZmM5LTg3M2UzMWQwOTQ4ZC8iLCJpZHR5cCI6ImFwcCIsIm9pZCI6IjcwZDgxMGRhLTFmNjctNGZmMi05NGRmLTA5NWU3MmYwNTYwZSIsInJoIjoiMC5BVk1BanE3OFRfZjZyRU9meVljLU1kQ1VqUU1BQUFBQUFBQUF3QUFBQUFBQUFBREZBQUEuIiwicm9sZXMiOlsiVXNlci5SZWFkQmFzaWMuQWxsIiwiRmlsZXMuUmVhZFdyaXRlLkFwcEZvbGRlciIsIlVzZXIuUmVhZFdyaXRlLkFsbCIsIlVzZXIuRW5hYmxlRGlzYWJsZUFjY291bnQuQWxsIiwiVXNlci5JbnZpdGUuQWxsIiwiRmlsZXMuUmVhZFdyaXRlLkFsbCIsIlVzZXIuUmVhZC5BbGwiLCJGaWxlcy5SZWFkLkFsbCIsIlVzZXIuRXhwb3J0LkFsbCIsIlVzZXIuTWFuYWdlSWRlbnRpdGllcy5BbGwiXSwic3ViIjoiNzBkODEwZGEtMWY2Ny00ZmYyLTk0ZGYtMDk1ZTcyZjA1NjBlIiwidGVuYW50X3JlZ2lvbl9zY29wZSI6IkFTIiwidGlkIjoiNGZmY2FlOGUtZmFmNy00M2FjLTlmYzktODczZTMxZDA5NDhkIiwidXRpIjoiWkMwTU1meVZOVU8xUzRZbHdMVXFBQSIsInZlciI6IjEuMCIsIndpZHMiOlsiMDk5N2ExZDAtMGQxZC00YWNiLWI0MDgtZDVjYTczMTIxZTkwIl0sInhtc190Y2R0IjoxNTk4MTUyNDE4fQ.dUnpG9SNZ32vurYFlCMrjPXeVBAvs1l6x_UrUS-LFEvX7WRzF8-o0ZWyc2CEoSeHsduNYqJ-fdmpnvpMho19eYoEjWb0wypv_bx9ipdNa3V16nG7dPScTZtx2yubpuHbLi3z0TS62nBEbypB_jOyxTR8izZ2gS1FbfBG7jEE64nIBpyBTTHJuc00RvfF8tTWaWsMCw6CCmIb8VyVUZwE9G19-YQs7KU-r_0Y1GTtrZlYHiAWrDdApH01MSj2bFVwWiPwFDDOMUqfFWf4y3C9b6LhL0gVZ_LOEWpFGTTk8AE5XX1nhUNiTZQiRq-qtlYflerlrCj7U7hvlrVsO8PYPw\n",
      "上传文件到 OneDrive...\n"
     ]
    },
    {
     "ename": "FileNotFoundError",
     "evalue": "[Errno 2] No such file or directory: 'hosts'",
     "output_type": "error",
     "traceback": [
      "\u001b[0;31m---------------------------------------------------------------------------\u001b[0m",
      "\u001b[0;31mFileNotFoundError\u001b[0m                         Traceback (most recent call last)",
      "Cell \u001b[0;32mIn[1], line 58\u001b[0m\n\u001b[1;32m     55\u001b[0m     \u001b[38;5;28mprint\u001b[39m(\u001b[38;5;124m'\u001b[39m\u001b[38;5;124m响应:\u001b[39m\u001b[38;5;124m'\u001b[39m, response)\n\u001b[1;32m     57\u001b[0m \u001b[38;5;28;01mif\u001b[39;00m \u001b[38;5;18m__name__\u001b[39m \u001b[38;5;241m==\u001b[39m \u001b[38;5;124m\"\u001b[39m\u001b[38;5;124m__main__\u001b[39m\u001b[38;5;124m\"\u001b[39m:\n\u001b[0;32m---> 58\u001b[0m     \u001b[43mmain\u001b[49m\u001b[43m(\u001b[49m\u001b[43m)\u001b[49m\n",
      "Cell \u001b[0;32mIn[1], line 53\u001b[0m, in \u001b[0;36mmain\u001b[0;34m()\u001b[0m\n\u001b[1;32m     50\u001b[0m \u001b[38;5;28mprint\u001b[39m(\u001b[38;5;124mf\u001b[39m\u001b[38;5;124m'\u001b[39m\u001b[38;5;124m访问令牌获取成功。\u001b[39m\u001b[38;5;132;01m{\u001b[39;00maccess_token\u001b[38;5;132;01m}\u001b[39;00m\u001b[38;5;124m'\u001b[39m)\n\u001b[1;32m     52\u001b[0m \u001b[38;5;28mprint\u001b[39m(\u001b[38;5;124m'\u001b[39m\u001b[38;5;124m上传文件到 OneDrive...\u001b[39m\u001b[38;5;124m'\u001b[39m)\n\u001b[0;32m---> 53\u001b[0m response \u001b[38;5;241m=\u001b[39m \u001b[43mupload_file_to_onedrive\u001b[49m\u001b[43m(\u001b[49m\u001b[43maccess_token\u001b[49m\u001b[43m,\u001b[49m\u001b[43m \u001b[49m\u001b[43mfile_path\u001b[49m\u001b[43m,\u001b[49m\u001b[43m \u001b[49m\u001b[43mupload_url\u001b[49m\u001b[43m)\u001b[49m\n\u001b[1;32m     54\u001b[0m \u001b[38;5;28mprint\u001b[39m(\u001b[38;5;124m'\u001b[39m\u001b[38;5;124m文件上传成功。\u001b[39m\u001b[38;5;124m'\u001b[39m)\n\u001b[1;32m     55\u001b[0m \u001b[38;5;28mprint\u001b[39m(\u001b[38;5;124m'\u001b[39m\u001b[38;5;124m响应:\u001b[39m\u001b[38;5;124m'\u001b[39m, response)\n",
      "Cell \u001b[0;32mIn[1], line 31\u001b[0m, in \u001b[0;36mupload_file_to_onedrive\u001b[0;34m(access_token, file_path, upload_url)\u001b[0m\n\u001b[1;32m     26\u001b[0m \u001b[38;5;28;01mdef\u001b[39;00m \u001b[38;5;21mupload_file_to_onedrive\u001b[39m(access_token, file_path, upload_url):\n\u001b[1;32m     27\u001b[0m     headers \u001b[38;5;241m=\u001b[39m {\n\u001b[1;32m     28\u001b[0m         \u001b[38;5;124m'\u001b[39m\u001b[38;5;124mAuthorization\u001b[39m\u001b[38;5;124m'\u001b[39m: \u001b[38;5;124mf\u001b[39m\u001b[38;5;124m'\u001b[39m\u001b[38;5;124mBearer \u001b[39m\u001b[38;5;132;01m{\u001b[39;00maccess_token\u001b[38;5;132;01m}\u001b[39;00m\u001b[38;5;124m'\u001b[39m,\n\u001b[1;32m     29\u001b[0m         \u001b[38;5;124m'\u001b[39m\u001b[38;5;124mContent-Type\u001b[39m\u001b[38;5;124m'\u001b[39m: \u001b[38;5;124m'\u001b[39m\u001b[38;5;124mapplication/octet-stream\u001b[39m\u001b[38;5;124m'\u001b[39m\n\u001b[1;32m     30\u001b[0m     }\n\u001b[0;32m---> 31\u001b[0m     \u001b[38;5;28;01mwith\u001b[39;00m \u001b[38;5;28;43mopen\u001b[39;49m\u001b[43m(\u001b[49m\u001b[43mfile_path\u001b[49m\u001b[43m,\u001b[49m\u001b[43m \u001b[49m\u001b[38;5;124;43m'\u001b[39;49m\u001b[38;5;124;43mrb\u001b[39;49m\u001b[38;5;124;43m'\u001b[39;49m\u001b[43m)\u001b[49m \u001b[38;5;28;01mas\u001b[39;00m file:\n\u001b[1;32m     32\u001b[0m         response \u001b[38;5;241m=\u001b[39m requests\u001b[38;5;241m.\u001b[39mput(upload_url, headers\u001b[38;5;241m=\u001b[39mheaders, data\u001b[38;5;241m=\u001b[39mfile)\n\u001b[1;32m     33\u001b[0m     response\u001b[38;5;241m.\u001b[39mraise_for_status()\n",
      "File \u001b[0;32m/usr/local/lib/python3.10/dist-packages/IPython/core/interactiveshell.py:324\u001b[0m, in \u001b[0;36m_modified_open\u001b[0;34m(file, *args, **kwargs)\u001b[0m\n\u001b[1;32m    317\u001b[0m \u001b[38;5;28;01mif\u001b[39;00m file \u001b[38;5;129;01min\u001b[39;00m {\u001b[38;5;241m0\u001b[39m, \u001b[38;5;241m1\u001b[39m, \u001b[38;5;241m2\u001b[39m}:\n\u001b[1;32m    318\u001b[0m     \u001b[38;5;28;01mraise\u001b[39;00m \u001b[38;5;167;01mValueError\u001b[39;00m(\n\u001b[1;32m    319\u001b[0m         \u001b[38;5;124mf\u001b[39m\u001b[38;5;124m\"\u001b[39m\u001b[38;5;124mIPython won\u001b[39m\u001b[38;5;124m'\u001b[39m\u001b[38;5;124mt let you open fd=\u001b[39m\u001b[38;5;132;01m{\u001b[39;00mfile\u001b[38;5;132;01m}\u001b[39;00m\u001b[38;5;124m by default \u001b[39m\u001b[38;5;124m\"\u001b[39m\n\u001b[1;32m    320\u001b[0m         \u001b[38;5;124m\"\u001b[39m\u001b[38;5;124mas it is likely to crash IPython. If you know what you are doing, \u001b[39m\u001b[38;5;124m\"\u001b[39m\n\u001b[1;32m    321\u001b[0m         \u001b[38;5;124m\"\u001b[39m\u001b[38;5;124myou can use builtins\u001b[39m\u001b[38;5;124m'\u001b[39m\u001b[38;5;124m open.\u001b[39m\u001b[38;5;124m\"\u001b[39m\n\u001b[1;32m    322\u001b[0m     )\n\u001b[0;32m--> 324\u001b[0m \u001b[38;5;28;01mreturn\u001b[39;00m \u001b[43mio_open\u001b[49m\u001b[43m(\u001b[49m\u001b[43mfile\u001b[49m\u001b[43m,\u001b[49m\u001b[43m \u001b[49m\u001b[38;5;241;43m*\u001b[39;49m\u001b[43margs\u001b[49m\u001b[43m,\u001b[49m\u001b[43m \u001b[49m\u001b[38;5;241;43m*\u001b[39;49m\u001b[38;5;241;43m*\u001b[39;49m\u001b[43mkwargs\u001b[49m\u001b[43m)\u001b[49m\n",
      "\u001b[0;31mFileNotFoundError\u001b[0m: [Errno 2] No such file or directory: 'hosts'"
     ]
    }
   ],
   "source": [
    "import requests\n",
    "from dotenv import load_dotenv\n",
    "import os\n",
    "\n",
    "# 加载最新的 .env 文件\n",
    "load_dotenv(override=True)\n",
    "\n",
    "# auth_url = f'https://login.microsoftonline.com/{tenant_id}/oauth2/v2.0/token'\n",
    "upload_url_template = 'https://graph.microsoft.com/v1.0/users/me@lvhongyuan.site/drive/root:/{}:/content'\n",
    "\n",
    "def get_access_token(client_id, client_secret, auth_url):\n",
    "    headers = {\n",
    "        'Content-Type': 'application/x-www-form-urlencoded'\n",
    "    }\n",
    "    data = {\n",
    "        'client_id': client_id,\n",
    "        'scope': 'https://graph.microsoft.com/.default',\n",
    "        'client_secret': client_secret,\n",
    "        'grant_type': 'client_credentials'\n",
    "    }\n",
    "    response = requests.post(auth_url, headers=headers, data=data)\n",
    "    response.raise_for_status()\n",
    "    token = response.json().get('access_token')\n",
    "    return token\n",
    "\n",
    "def upload_file_to_onedrive(access_token, file_path, upload_url):\n",
    "    headers = {\n",
    "        'Authorization': f'Bearer {access_token}',\n",
    "        'Content-Type': 'application/octet-stream'\n",
    "    }\n",
    "    with open(file_path, 'rb') as file:\n",
    "        response = requests.put(upload_url, headers=headers, data=file)\n",
    "    response.raise_for_status()\n",
    "    return response.json()\n",
    "\n",
    "def main():\n",
    "\n",
    "    # 设置参数\n",
    "    client_id = os.getenv('client_id')\n",
    "    client_secret = os.getenv('client_secret')\n",
    "    tenant_id = os.getenv('tenant_id')  # 通常是目录 (tenant) ID\n",
    "    file_path = 'hosts'\n",
    "    file_name = '文档/Backup/Semaphore/hosts'  # 文件在 OneDrive 中的路径和名称\n",
    "\n",
    "    auth_url = f'https://login.microsoftonline.com/{tenant_id}/oauth2/v2.0/token'\n",
    "    upload_url = upload_url_template.format(file_name)\n",
    "\n",
    "    print('获取访问令牌...')\n",
    "    access_token = get_access_token(client_id, client_secret, auth_url)\n",
    "    print(f'访问令牌获取成功。{access_token}')\n",
    "\n",
    "    print('上传文件到 OneDrive...')\n",
    "    response = upload_file_to_onedrive(access_token, file_path, upload_url)\n",
    "    print('文件上传成功。')\n",
    "    print('响应:', response)\n",
    "\n",
    "if __name__ == \"__main__\":\n",
    "    main()\n"
   ]
  },
  {
   "cell_type": "code",
   "execution_count": null,
   "metadata": {},
   "outputs": [],
   "source": []
  },
  {
   "cell_type": "code",
   "execution_count": null,
   "metadata": {},
   "outputs": [],
   "source": []
  }
 ],
 "metadata": {
  "kernelspec": {
   "display_name": "Python 3",
   "language": "python",
   "name": "python3"
  },
  "language_info": {
   "codemirror_mode": {
    "name": "ipython",
    "version": 3
   },
   "file_extension": ".py",
   "mimetype": "text/x-python",
   "name": "python",
   "nbconvert_exporter": "python",
   "pygments_lexer": "ipython3",
   "version": "3.10.12"
  }
 },
 "nbformat": 4,
 "nbformat_minor": 2
}
