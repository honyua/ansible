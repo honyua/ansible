{
 "cells": [
  {
   "cell_type": "code",
   "execution_count": 1,
   "metadata": {},
   "outputs": [
    {
     "name": "stdout",
     "output_type": "stream",
     "text": [
      "Defaulting to user installation because normal site-packages is not writeable\n",
      "Requirement already satisfied: pyyaml in /usr/local/lib/python3.10/dist-packages (6.0.1)\n",
      "Note: you may need to restart the kernel to use updated packages.\n"
     ]
    }
   ],
   "source": [
    "%pip install pyyaml"
   ]
  },
  {
   "cell_type": "code",
   "execution_count": 5,
   "metadata": {},
   "outputs": [
    {
     "name": "stdout",
     "output_type": "stream",
     "text": [
      "192.227.212.51\n",
      "...\n",
      "\n"
     ]
    }
   ],
   "source": [
    "import yaml # type: ignore\n",
    "with open(\"../../../hosts\", \"r\") as f:\n",
    "    data = yaml.safe_load(f)\n",
    "\n",
    "# 逐行打印加载的数据\n",
    "# print(yaml.dump(data, allow_unicode=True))\n",
    "# print(yaml.dump(data[\"ungrouped\"][\"hosts\"][\"default\"][\"ansible_host\"], allow_u\n"
   ]
  },
  {
   "cell_type": "code",
   "execution_count": null,
   "metadata": {},
   "outputs": [],
   "source": [
    "def parse_ssh_config(ssh_config_file):\n",
    "    hosts = {}\n",
    "    with open(ssh_config_file, 'r') as f:\n",
    "        lines = f.readlines()\n",
    "        current_host = None\n",
    "        for line in lines:\n",
    "            line = line.strip()\n",
    "            if line.startswith('Host '):\n",
    "                current_host = line.split()[1]\n",
    "                hosts[current_host] = {}\n",
    "            elif line.startswith('HostName'):\n",
    "                hosts[current_host]['hostname'] = line.split()[1]\n",
    "            elif line.startswith('User'):\n",
    "                hosts[current_host]['user'] = line.split()[1]\n",
    "            elif line.startswith('Port'):\n",
    "                hosts[current_host]['port'] = line.split()[1]\n",
    "    return hosts\n",
    "\n",
    "\n",
    "def write_ansible_inventory(hosts, inventory_file):\n",
    "    with open(inventory_file, 'w') as f:\n",
    "        for host, params in hosts.items():\n",
    "            f.write(f\"[{host}]\\n\")\n",
    "            f.write(f\"{params['hostname']} ansible_user={params.get('user', 'your_user')} ansible_port={params.get('port', '22')}\\n\\n\")\n",
    "\n",
    "\n",
    "def write_ansible_cfg(remote_user, private_key_file, inventory_file, ansible_cfg_file):\n",
    "    with open(ansible_cfg_file, 'w') as f:\n",
    "        f.write(\"[defaults]\\n\")\n",
    "        f.write(f\"inventory = {inventory_file}\\n\")\n",
    "        f.write(f\"remote_user = {remote_user}\\n\")\n",
    "        f.write(f\"private_key_file = {private_key_file}\\n\")\n",
    "\n",
    "\n",
    "def main():\n",
    "    ssh_config_file = '/path/to/your/ssh/config'\n",
    "    ansible_inventory_file = '/path/to/ansible/inventory'\n",
    "    ansible_cfg_file = '/path/to/ansible.cfg'\n",
    "\n",
    "    # SSH Config to Ansible Inventory\n",
    "    hosts = parse_ssh_config(ssh_config_file)\n",
    "    write_ansible_inventory(hosts, ansible_inventory_file)\n",
    "\n",
    "    # Write ansible.cfg\n",
    "    remote_user = 'your_ssh_user'\n",
    "    private_key_file = '/path/to/your/private/key'\n",
    "    write_ansible_cfg(remote_user, private_key_file, ansible_inventory_file, ansible_cfg_file)\n",
    "\n",
    "\n",
    "if __name__ == \"__main__\":\n",
    "    main()\n"
   ]
  },
  {
   "cell_type": "code",
   "execution_count": null,
   "metadata": {},
   "outputs": [],
   "source": []
  }
 ],
 "metadata": {
  "kernelspec": {
   "display_name": "Python 3",
   "language": "python",
   "name": "python3"
  },
  "language_info": {
   "codemirror_mode": {
    "name": "ipython",
    "version": 3
   },
   "file_extension": ".py",
   "mimetype": "text/x-python",
   "name": "python",
   "nbconvert_exporter": "python",
   "pygments_lexer": "ipython3",
   "version": "3.10.12"
  }
 },
 "nbformat": 4,
 "nbformat_minor": 2
}
