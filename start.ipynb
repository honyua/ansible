{
 "cells": [
  {
   "cell_type": "code",
   "execution_count": null,
   "metadata": {},
   "outputs": [],
   "source": [
    "# 运行 default 主机 hello\n",
    "!ansible-playbook -i roles/backup/files/hosts -l default playbooks.yaml -vv --tags hello"
   ]
  },
  {
   "cell_type": "code",
   "execution_count": null,
   "metadata": {},
   "outputs": [],
   "source": [
    "%pip install python-dotenv\n"
   ]
  },
  {
   "cell_type": "code",
   "execution_count": null,
   "metadata": {},
   "outputs": [],
   "source": [
    "from dotenv import load_dotenv\n",
    "import os\n",
    "\n",
    "# 加载最新的 .env 文件\n",
    "# load_dotenv(override=True)\n",
    "load_dotenv(dotenv_path=\"roles/softwareinstall/files/.env\", override=True)\n",
    "\n",
    "# 设置参数\n",
    "client_id = os.getenv('client_id')\n",
    "client_secret = os.getenv('client_secret')\n",
    "tenant_id = os.getenv('tenant_id')  # 通常是目录 (tenant) ID\n",
    "oneDrivePath = os.getenv('oneDrivePath')\n",
    "localFilePath = os.getenv('localFilePath')\n",
    "\n",
    "# !echo \"$localFilePath $oneDrivePath $client_id $client_secret $tenant_id\"\n",
    "\n",
    "# !ansible-playbook -i roles/softwareinstall/files/hosts -l default playbooks.yaml -vvv --tags softwareinstall -e \"$localFilePath $oneDrivePath $client_id $client_secret $tenant_id alist\""
   ]
  },
  {
   "cell_type": "code",
   "execution_count": null,
   "metadata": {},
   "outputs": [],
   "source": []
  },
  {
   "cell_type": "code",
   "execution_count": null,
   "metadata": {},
   "outputs": [],
   "source": []
  },
  {
   "cell_type": "code",
   "execution_count": null,
   "metadata": {},
   "outputs": [],
   "source": []
  },
  {
   "cell_type": "code",
   "execution_count": null,
   "metadata": {},
   "outputs": [],
   "source": []
  },
  {
   "cell_type": "code",
   "execution_count": null,
   "metadata": {},
   "outputs": [],
   "source": []
  }
 ],
 "metadata": {
  "kernelspec": {
   "display_name": "Python 3 (ipykernel)",
   "language": "python",
   "name": "python3"
  },
  "language_info": {
   "codemirror_mode": {
    "name": "ipython",
    "version": 3
   },
   "file_extension": ".py",
   "mimetype": "text/x-python",
   "name": "python",
   "nbconvert_exporter": "python",
   "pygments_lexer": "ipython3",
   "version": "3.12.3"
  }
 },
 "nbformat": 4,
 "nbformat_minor": 2
}
