{
 "cells": [
  {
   "cell_type": "code",
   "execution_count": null,
   "metadata": {},
   "outputs": [],
   "source": [
    "# 运行 default 主机 hello\n",
    "!ansible-playbook -i hosts -l default playbooks.yaml -vv --tags hello"
   ]
  },
  {
   "cell_type": "markdown",
   "metadata": {},
   "source": []
  },
  {
   "cell_type": "code",
   "execution_count": null,
   "metadata": {},
   "outputs": [],
   "source": []
  },
  {
   "cell_type": "code",
   "execution_count": null,
   "metadata": {},
   "outputs": [],
   "source": [
    "!ls"
   ]
  },
  {
   "cell_type": "code",
   "execution_count": null,
   "metadata": {},
   "outputs": [],
   "source": [
    "!code --folder-uri vscode-remote://dev-container+docker//$HOME//project\n"
   ]
  },
  {
   "cell_type": "markdown",
   "metadata": {},
   "source": []
  },
  {
   "cell_type": "code",
   "execution_count": 25,
   "metadata": {},
   "outputs": [
    {
     "name": "stdout",
     "output_type": "stream",
     "text": [
      "\u001b[0;34mansible-playbook [core 2.16.7]\u001b[0m\n",
      "\u001b[0;34m  config file = None\u001b[0m\n",
      "\u001b[0;34m  configured module search path = ['/root/.ansible/plugins/modules', '/usr/share/ansible/plugins/modules']\u001b[0m\n",
      "\u001b[0;34m  ansible python module location = /usr/local/lib/python3.12/site-packages/ansible\u001b[0m\n",
      "\u001b[0;34m  ansible collection location = /root/.ansible/collections:/usr/share/ansible/collections\u001b[0m\n",
      "\u001b[0;34m  executable location = /usr/local/bin/ansible-playbook\u001b[0m\n",
      "\u001b[0;34m  python version = 3.12.3 (main, May 14 2024, 07:23:41) [GCC 12.2.0] (/usr/local/bin/python)\u001b[0m\n",
      "\u001b[0;34m  jinja version = 3.1.4\u001b[0m\n",
      "\u001b[0;34m  libyaml = True\u001b[0m\n",
      "\u001b[0;34mNo config file found; using defaults\u001b[0m\n",
      "\u001b[0;34mSkipping callback 'default', as we already have a stdout callback.\u001b[0m\n",
      "\u001b[0;34mSkipping callback 'minimal', as we already have a stdout callback.\u001b[0m\n",
      "\u001b[0;34mSkipping callback 'oneline', as we already have a stdout callback.\u001b[0m\n",
      "\n",
      "PLAYBOOK: playbooks.yaml *******************************************************\n",
      "\u001b[0;34m1 plays in playbooks.yaml\u001b[0m\n",
      "\n",
      "PLAY [Hello] *******************************************************************\n",
      "\n",
      "TASK [Gathering Facts] *********************************************************\n",
      "\u001b[1;30mtask path: /workspaces/ansible/playbooks.yaml:2\u001b[0m\n",
      "\u001b[0;32mok: [default]\u001b[0m\n",
      "\n",
      "TASK [hello : Echo hello] ******************************************************\n",
      "\u001b[1;30mtask path: /workspaces/ansible/roles/hello/tasks/main.yaml:2\u001b[0m\n",
      "\u001b[0;32mok: [default] => {\"changed\": false, \"rc\": 0, \"stderr\": \"Shared connection to 192.227.212.51 closed.\\r\\n\", \"stderr_lines\": [\"Shared connection to 192.227.212.51 closed.\"], \"stdout\": \"hello\\r\\n\", \"stdout_lines\": [\"hello\"]}\u001b[0m\n",
      "\n",
      "PLAY RECAP *********************************************************************\n",
      "\u001b[0;32mdefault\u001b[0m                    : \u001b[0;32mok=2   \u001b[0m changed=0    unreachable=0    failed=0    skipped=0    rescued=0    ignored=0   \n",
      "\n"
     ]
    }
   ],
   "source": []
  }
 ],
 "metadata": {
  "kernelspec": {
   "display_name": "Python 3 (ipykernel)",
   "language": "python",
   "name": "python3"
  },
  "language_info": {
   "codemirror_mode": {
    "name": "ipython",
    "version": 3
   },
   "file_extension": ".py",
   "mimetype": "text/x-python",
   "name": "python",
   "nbconvert_exporter": "python",
   "pygments_lexer": "ipython3",
   "version": "3.12.3"
  }
 },
 "nbformat": 4,
 "nbformat_minor": 2
}
