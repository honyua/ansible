{
 "cells": [
  {
   "cell_type": "code",
   "execution_count": null,
   "metadata": {},
   "outputs": [],
   "source": [
    "# 运行 default 主机 hello\n",
    "!ansible-playbook -i hosts -l default playbooks.yaml -vv --tags hello"
   ]
  },
  {
   "cell_type": "code",
   "execution_count": 3,
   "metadata": {},
   "outputs": [
    {
     "name": "stdout",
     "output_type": "stream",
     "text": [
      "\u001b[32m[I 2024-06-08 14:50:30.009 ServerApp]\u001b[m jupyter_lsp | extension was successfully linked.\n",
      "\u001b[32m[I 2024-06-08 14:50:30.018 ServerApp]\u001b[m jupyter_server_mathjax | extension was successfully linked.\n",
      "\u001b[32m[I 2024-06-08 14:50:30.025 ServerApp]\u001b[m jupyter_server_terminals | extension was successfully linked.\n",
      "\u001b[33m[W 2024-06-08 14:50:30.029 LabApp]\u001b[m 'allow_origin' has moved from NotebookApp to ServerApp. This config will be passed to ServerApp. Be sure to update your config before our next release.\n",
      "\u001b[32m[I 2024-06-08 14:50:30.036 ServerApp]\u001b[m jupyterlab | extension was successfully linked.\n",
      "\u001b[32m[I 2024-06-08 14:50:30.036 ServerApp]\u001b[m jupyterlab_git | extension was successfully linked.\n",
      "\u001b[32m[I 2024-06-08 14:50:30.037 ServerApp]\u001b[m nbdime | extension was successfully linked.\n",
      "\u001b[32m[I 2024-06-08 14:50:30.039 ServerApp]\u001b[m Writing Jupyter server cookie secret to /root/.local/share/jupyter/runtime/jupyter_cookie_secret\n",
      "\u001b[32m[I 2024-06-08 14:50:30.345 ServerApp]\u001b[m notebook_shim | extension was successfully linked.\n",
      "\u001b[32m[I 2024-06-08 14:50:30.368 ServerApp]\u001b[m notebook_shim | extension was successfully loaded.\n",
      "\u001b[32m[I 2024-06-08 14:50:30.371 ServerApp]\u001b[m jupyter_lsp | extension was successfully loaded.\n",
      "\u001b[32m[I 2024-06-08 14:50:30.372 ServerApp]\u001b[m jupyter_server_mathjax | extension was successfully loaded.\n",
      "\u001b[32m[I 2024-06-08 14:50:30.373 ServerApp]\u001b[m jupyter_server_terminals | extension was successfully loaded.\n",
      "\u001b[32m[I 2024-06-08 14:50:30.376 LabApp]\u001b[m JupyterLab extension loaded from /usr/local/lib/python3.12/site-packages/jupyterlab\n",
      "\u001b[32m[I 2024-06-08 14:50:30.376 LabApp]\u001b[m JupyterLab application directory is /usr/local/share/jupyter/lab\n",
      "\u001b[32m[I 2024-06-08 14:50:30.376 LabApp]\u001b[m Extension Manager is 'pypi'.\n",
      "\u001b[32m[I 2024-06-08 14:50:30.423 ServerApp]\u001b[m jupyterlab | extension was successfully loaded.\n",
      "\u001b[32m[I 2024-06-08 14:50:30.434 ServerApp]\u001b[m jupyterlab_git | extension was successfully loaded.\n",
      "\u001b[32m[I 2024-06-08 14:50:30.543 ServerApp]\u001b[m nbdime | extension was successfully loaded.\n",
      "\u001b[32m[I 2024-06-08 14:50:30.544 ServerApp]\u001b[m Serving notebooks from local directory: /workspaces/ansible\n",
      "\u001b[32m[I 2024-06-08 14:50:30.544 ServerApp]\u001b[m Jupyter Server 2.14.1 is running at:\n",
      "\u001b[32m[I 2024-06-08 14:50:30.544 ServerApp]\u001b[m http://localhost:8888/lab?token=778a5facd6b5627e80699815c977348902a0d5da98eaa7cf\n",
      "\u001b[32m[I 2024-06-08 14:50:30.545 ServerApp]\u001b[m     http://127.0.0.1:8888/lab?token=778a5facd6b5627e80699815c977348902a0d5da98eaa7cf\n",
      "\u001b[32m[I 2024-06-08 14:50:30.545 ServerApp]\u001b[m Use Control-C to stop this server and shut down all kernels (twice to skip confirmation).\n",
      "\u001b[35m[C 2024-06-08 14:50:30.559 ServerApp]\u001b[m \n",
      "    \n",
      "    To access the server, open this file in a browser:\n",
      "        file:///root/.local/share/jupyter/runtime/jpserver-911-open.html\n",
      "    Or copy and paste one of these URLs:\n",
      "        http://localhost:8888/lab?token=778a5facd6b5627e80699815c977348902a0d5da98eaa7cf\n",
      "        http://127.0.0.1:8888/lab?token=778a5facd6b5627e80699815c977348902a0d5da98eaa7cf\n",
      "\u001b[32m[I 2024-06-08 14:50:30.671 ServerApp]\u001b[m Skipped non-installed server(s): bash-language-server, dockerfile-language-server-nodejs, javascript-typescript-langserver, jedi-language-server, julia-language-server, pyright, python-language-server, python-lsp-server, r-languageserver, sql-language-server, texlab, typescript-language-server, unified-language-server, vscode-css-languageserver-bin, vscode-html-languageserver-bin, vscode-json-languageserver-bin, yaml-language-server\n",
      "\u001b[33m[W 2024-06-08 14:51:56.846 LabApp]\u001b[m Could not determine jupyterlab build status without nodejs\n",
      "\u001b[31m[E 2024-06-08 14:52:00.493 ServerApp]\u001b[m {\n",
      "      \"Host\": \"localhost:8888\",\n",
      "      \"Accept\": \"*/*\",\n",
      "      \"Referer\": \"http://localhost:8888/lab\",\n",
      "      \"User-Agent\": \"Mozilla/5.0 (Windows NT 10.0; Win64; x64) AppleWebKit/537.36 (KHTML, like Gecko) Chrome/125.0.0.0 Safari/537.36\"\n",
      "    }\n",
      "\u001b[31m[E 2024-06-08 14:52:00.493 ServerApp]\u001b[m 500 POST /git/show_prefix?1717858320538 (bc1f2e6dc0184dcf8916d3eb4c5dcef2@127.0.0.1) 29.94ms referer=http://localhost:8888/lab\n",
      "\u001b[32m[I 2024-06-08 14:52:13.276 ServerApp]\u001b[m Writing notebook-signing key to /root/.local/share/jupyter/notebook_secret\n",
      "\u001b[33m[W 2024-06-08 14:52:13.277 ServerApp]\u001b[m Notebook start.ipynb is not trusted\n",
      "\u001b[32m[I 2024-06-08 14:52:19.833 ServerApp]\u001b[m Kernel started: abfd1804-fc83-4f7f-94e4-f90acdee6d0c\n",
      "\u001b[32m[I 2024-06-08 14:52:22.688 ServerApp]\u001b[m Connecting to kernel abfd1804-fc83-4f7f-94e4-f90acdee6d0c.\n",
      "\u001b[32m[I 2024-06-08 14:52:24.092 ServerApp]\u001b[m Starting buffering for abfd1804-fc83-4f7f-94e4-f90acdee6d0c:fdbab15d-ca0a-460d-a195-1e2d775629f9\n",
      "\u001b[32m[I 2024-06-08 14:52:25.579 ServerApp]\u001b[m Connecting to kernel abfd1804-fc83-4f7f-94e4-f90acdee6d0c.\n",
      "\u001b[32m[I 2024-06-08 14:52:25.603 ServerApp]\u001b[m Starting buffering for abfd1804-fc83-4f7f-94e4-f90acdee6d0c:401d8f4e-d5e2-47b1-a76f-97de1a83ae3d\n",
      "^C\n",
      "\u001b[32m[I 2024-06-08 14:52:30.884 ServerApp]\u001b[m interrupted\n",
      "\u001b[32m[I 2024-06-08 14:52:30.885 ServerApp]\u001b[m Serving notebooks from local directory: /workspaces/ansible\n",
      "    1 active kernel\n",
      "    Jupyter Server 2.14.1 is running at:\n",
      "    http://localhost:8888/lab?token=778a5facd6b5627e80699815c977348902a0d5da98eaa7cf\n",
      "        http://127.0.0.1:8888/lab?token=778a5facd6b5627e80699815c977348902a0d5da98eaa7cf\n",
      "Shut down this Jupyter server (y/[n])? \u001b[32m[I 2024-06-08 14:52:30.885 ServerApp]\u001b[m resuming operation...\n"
     ]
    }
   ],
   "source": [
    "! jupyter lab"
   ]
  }
 ],
 "metadata": {
  "kernelspec": {
   "display_name": "Python 3 (ipykernel)",
   "language": "python",
   "name": "python3"
  },
  "language_info": {
   "codemirror_mode": {
    "name": "ipython",
    "version": 3
   },
   "file_extension": ".py",
   "mimetype": "text/x-python",
   "name": "python",
   "nbconvert_exporter": "python",
   "pygments_lexer": "ipython3",
   "version": "3.12.3"
  }
 },
 "nbformat": 4,
 "nbformat_minor": 2
}
